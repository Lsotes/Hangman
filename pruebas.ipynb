{
 "cells": [
  {
   "cell_type": "code",
   "execution_count": 39,
   "metadata": {},
   "outputs": [],
   "source": [
    "palabra = []\n",
    "with open(\"./data.txt\",\"r\",encoding=\"utf-8\") as f:\n",
    "    for line in f:\n",
    "        palabra.append(str(line))\n",
    "enumerada = dict(enumerate(palabra,0))"
   ]
  },
  {
   "cell_type": "code",
   "execution_count": 40,
   "metadata": {},
   "outputs": [
    {
     "name": "stdout",
     "output_type": "stream",
     "text": [
      "cartas\n",
      "\n"
     ]
    }
   ],
   "source": [
    "import random\n",
    "\n",
    "cuenta = len(enumerada)\n",
    "elegida = str(enumerada.get(random.randint(0,cuenta)))\n",
    "print(elegida)"
   ]
  },
  {
   "cell_type": "code",
   "execution_count": 45,
   "metadata": {},
   "outputs": [
    {
     "name": "stdout",
     "output_type": "stream",
     "text": [
      "['-', '-', '-', '-', '-', '-']\n"
     ]
    }
   ],
   "source": [
    "resultado = [\"-\" for i in range(len(elegida)-1)]\n",
    "print(resultado)"
   ]
  },
  {
   "cell_type": "code",
   "execution_count": 43,
   "metadata": {},
   "outputs": [
    {
     "ename": "SyntaxError",
     "evalue": "invalid syntax (Temp/ipykernel_11688/1150950351.py, line 5)",
     "output_type": "error",
     "traceback": [
      "\u001b[1;36m  File \u001b[1;32m\"C:\\Users\\lsote\\AppData\\Local\\Temp/ipykernel_11688/1150950351.py\"\u001b[1;36m, line \u001b[1;32m5\u001b[0m\n\u001b[1;33m    if letra == elegida[]:\u001b[0m\n\u001b[1;37m                        ^\u001b[0m\n\u001b[1;31mSyntaxError\u001b[0m\u001b[1;31m:\u001b[0m invalid syntax\n"
     ]
    }
   ],
   "source": [
    "intentos = 7\n",
    "for i in range(intentos):\n",
    "    letra = str(input(\"Ingresa una letra y presiona enter: \"))\n",
    "    for n in range(len(elegida)-1):\n",
    "        if letra == elegida[n]:\n",
    "            resultado[n] = letra\n",
    "            \n",
    "    \n",
    "    intentos += 1\n",
    "        resultado.append(letra)\n",
    "    print(resultado)"
   ]
  }
 ],
 "metadata": {
  "interpreter": {
   "hash": "4f045709710d49abb56ebb860d9c0081d8cb5246c9620c534de532a4d1ab18c8"
  },
  "kernelspec": {
   "display_name": "Python 3.9.7 ('base')",
   "language": "python",
   "name": "python3"
  },
  "language_info": {
   "codemirror_mode": {
    "name": "ipython",
    "version": 3
   },
   "file_extension": ".py",
   "mimetype": "text/x-python",
   "name": "python",
   "nbconvert_exporter": "python",
   "pygments_lexer": "ipython3",
   "version": "3.9.7"
  },
  "orig_nbformat": 4
 },
 "nbformat": 4,
 "nbformat_minor": 2
}
