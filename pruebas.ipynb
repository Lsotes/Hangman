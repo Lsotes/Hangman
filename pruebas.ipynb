{
 "cells": [
  {
   "cell_type": "code",
   "execution_count": 53,
   "metadata": {},
   "outputs": [],
   "source": [
    "palabra = []\n",
    "with open(\"./data.txt\",\"r\",encoding=\"utf-8\") as f:\n",
    "    for line in f:\n",
    "        palabra.append(str(line))\n",
    "enumerada = dict(enumerate(palabra,0))"
   ]
  },
  {
   "cell_type": "code",
   "execution_count": 59,
   "metadata": {},
   "outputs": [
    {
     "name": "stdout",
     "output_type": "stream",
     "text": [
      "recipiente\n",
      "\n"
     ]
    }
   ],
   "source": [
    "import random\n",
    "import os\n",
    "\n",
    "cuenta = len(enumerada)\n",
    "elegida = str(enumerada.get(random.randint(0,cuenta)))\n",
    "print(elegida)"
   ]
  },
  {
   "cell_type": "code",
   "execution_count": 66,
   "metadata": {},
   "outputs": [
    {
     "name": "stdout",
     "output_type": "stream",
     "text": [
      "['-', '-', '-', '-', '-', '-', '-', '-', '-', '-']\n"
     ]
    }
   ],
   "source": [
    "resultado = [\"-\" for i in range(len(elegida)-1)]\n",
    "print(resultado)"
   ]
  },
  {
   "cell_type": "code",
   "execution_count": 61,
   "metadata": {},
   "outputs": [
    {
     "name": "stdout",
     "output_type": "stream",
     "text": [
      "['-', '-', '-', '-', 'i', '-', 'i', '-']\n"
     ]
    }
   ],
   "source": [
    "\n",
    "INTENTOS = 7\n",
    "for i in range(INTENTOS):\n",
    "    letra = str(input(\"Ingresa una letra y presiona enter: \"))\n",
    "    for n in range(len(elegida)-1):\n",
    "        if letra == elegida[n]:\n",
    "            resultado[n] = letra\n",
    "            INTENTOS += 1\n",
    "    os.system(\"cls\")\n",
    "    if i == INTENTOS + 1:\n",
    "        print(\"¡Ahorcado!\")\n",
    "    \n",
    "    print(resultado)\n",
    "    \n",
    "    break\n",
    "        \n",
    "        \n"
   ]
  },
  {
   "cell_type": "code",
   "execution_count": 73,
   "metadata": {},
   "outputs": [
    {
     "name": "stdout",
     "output_type": "stream",
     "text": [
      "['r', 'e', 'c', 'i', 'p', 'i', 'e', 'n', 't', 'e']\n"
     ]
    }
   ],
   "source": [
    "elegida = list(elegida)\n",
    "del elegida[-1]\n",
    "print(elegida)"
   ]
  }
 ],
 "metadata": {
  "interpreter": {
   "hash": "4f045709710d49abb56ebb860d9c0081d8cb5246c9620c534de532a4d1ab18c8"
  },
  "kernelspec": {
   "display_name": "Python 3.9.7 ('base')",
   "language": "python",
   "name": "python3"
  },
  "language_info": {
   "codemirror_mode": {
    "name": "ipython",
    "version": 3
   },
   "file_extension": ".py",
   "mimetype": "text/x-python",
   "name": "python",
   "nbconvert_exporter": "python",
   "pygments_lexer": "ipython3",
   "version": "3.9.7"
  },
  "orig_nbformat": 4
 },
 "nbformat": 4,
 "nbformat_minor": 2
}
